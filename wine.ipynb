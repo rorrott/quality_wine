{
 "cells": [
  {
   "cell_type": "markdown",
   "id": "0e92be52",
   "metadata": {},
   "source": [
    "# <center>Wine Quality Case Study</center>\n",
    "\n",
    "> **In this case study, we will be analyzing two data sets: 1 on red wine samples and 1 on white wine samles from the north of Portugal**\n",
    "\n",
    "- ***The two datasets are relaterd to*** **red and white** ***variantes of the Portuguese*** **\"Vinho Verde\"** ***wine.***\n",
    "\n",
    "> **Attribute Information**\n",
    "\n",
    "Input variables (based on physicochemical tests):\n",
    "\n",
    "- 1 - fixed acidity\n",
    "- 2 - volatile acidity\n",
    "- 3 - citric acid\n",
    "- 4 - residual sugar\n",
    "- 5 - chlorides\n",
    "- 6 - free sulfur dioxide\n",
    "- 7 - total sulfur dioxide\n",
    "- 8 - density\n",
    "- 9 - pH\n",
    "- 10 - sulphates\n",
    "- 11 - alcohol\n",
    "Output variable (based on sensory data):\n",
    "\n",
    "- 12 - quality (score between 0 and 10)\n",
    "\n",
    "> **Asking Questions**\n",
    "\n",
    "Based on the data set, we have come up with these questions that we would like to answer in our analysis.\n",
    "\n",
    "- Is a certain type of wine (red or white) associated with higher quality?\n",
    "- Do wines with higher alcoholic content receive better ratings?\n",
    "- Do sweeter wines (more residual sugar) receive better ratings?\n",
    "- What level of acidity is associated with the highest quality?"
   ]
  },
  {
   "cell_type": "markdown",
   "id": "5e67976d",
   "metadata": {},
   "source": [
    "### Data"
   ]
  },
  {
   "cell_type": "code",
   "execution_count": 1,
   "id": "9c5d7236",
   "metadata": {},
   "outputs": [],
   "source": [
    "import pandas as pd\n",
    "import numpy as np\n",
    "import seaborn as sns\n",
    "import matplotlib.pyplot as plt\n",
    "%matplotlib inline"
   ]
  },
  {
   "cell_type": "code",
   "execution_count": 2,
   "id": "5aeb2fb4",
   "metadata": {},
   "outputs": [],
   "source": [
    "red = pd.read_csv('./data/red.csv', sep=';')\n",
    "white = pd.read_csv('./data/white.csv', sep=';')"
   ]
  },
  {
   "cell_type": "code",
   "execution_count": 3,
   "id": "258d1e27",
   "metadata": {},
   "outputs": [
    {
     "data": {
      "text/plain": [
       "((1599, 12), (4898, 12))"
      ]
     },
     "execution_count": 3,
     "metadata": {},
     "output_type": "execute_result"
    }
   ],
   "source": [
    "# Number of samples and columns in each dataset\n",
    "red.shape, white.shape"
   ]
  },
  {
   "cell_type": "code",
   "execution_count": 4,
   "id": "fc856e1b",
   "metadata": {},
   "outputs": [
    {
     "name": "stdout",
     "output_type": "stream",
     "text": [
      "<class 'pandas.core.frame.DataFrame'>\n",
      "RangeIndex: 1599 entries, 0 to 1598\n",
      "Data columns (total 12 columns):\n",
      " #   Column                Non-Null Count  Dtype  \n",
      "---  ------                --------------  -----  \n",
      " 0   fixed acidity         1599 non-null   float64\n",
      " 1   volatile acidity      1599 non-null   float64\n",
      " 2   citric acid           1599 non-null   float64\n",
      " 3   residual sugar        1599 non-null   float64\n",
      " 4   chlorides             1599 non-null   float64\n",
      " 5   free sulfur dioxide   1599 non-null   float64\n",
      " 6   total sulfur dioxide  1599 non-null   float64\n",
      " 7   density               1599 non-null   float64\n",
      " 8   pH                    1599 non-null   float64\n",
      " 9   sulphates             1599 non-null   float64\n",
      " 10  alcohol               1599 non-null   float64\n",
      " 11  quality               1599 non-null   int64  \n",
      "dtypes: float64(11), int64(1)\n",
      "memory usage: 150.0 KB\n",
      "<class 'pandas.core.frame.DataFrame'>\n",
      "RangeIndex: 4898 entries, 0 to 4897\n",
      "Data columns (total 12 columns):\n",
      " #   Column                Non-Null Count  Dtype  \n",
      "---  ------                --------------  -----  \n",
      " 0   fixed acidity         4898 non-null   float64\n",
      " 1   volatile acidity      4898 non-null   float64\n",
      " 2   citric acid           4898 non-null   float64\n",
      " 3   residual sugar        4898 non-null   float64\n",
      " 4   chlorides             4898 non-null   float64\n",
      " 5   free sulfur dioxide   4898 non-null   float64\n",
      " 6   total sulfur dioxide  4898 non-null   float64\n",
      " 7   density               4898 non-null   float64\n",
      " 8   pH                    4898 non-null   float64\n",
      " 9   sulphates             4898 non-null   float64\n",
      " 10  alcohol               4898 non-null   float64\n",
      " 11  quality               4898 non-null   int64  \n",
      "dtypes: float64(11), int64(1)\n",
      "memory usage: 459.3 KB\n"
     ]
    },
    {
     "data": {
      "text/plain": [
       "(None, None)"
      ]
     },
     "execution_count": 4,
     "metadata": {},
     "output_type": "execute_result"
    }
   ],
   "source": [
    "# Features with missing values\n",
    "red.info(), white.info()"
   ]
  },
  {
   "cell_type": "code",
   "execution_count": 5,
   "id": "6743a16f",
   "metadata": {},
   "outputs": [
    {
     "data": {
      "text/plain": [
       "937"
      ]
     },
     "execution_count": 5,
     "metadata": {},
     "output_type": "execute_result"
    }
   ],
   "source": [
    "# Duplicate rows in the white wine dataset\n",
    "white.duplicated().sum()"
   ]
  },
  {
   "cell_type": "code",
   "execution_count": 6,
   "id": "a5e5fe9e",
   "metadata": {},
   "outputs": [
    {
     "data": {
      "text/plain": [
       "240"
      ]
     },
     "execution_count": 6,
     "metadata": {},
     "output_type": "execute_result"
    }
   ],
   "source": [
    "# Duplicate rows in the red wine dataset\n",
    "red.duplicated().sum()"
   ]
  },
  {
   "cell_type": "code",
   "execution_count": 7,
   "id": "17cf28a2",
   "metadata": {},
   "outputs": [],
   "source": [
    "# We are going to drop the duplicates of each dataser\n",
    "red = red.drop_duplicates()\n",
    "white = white.drop_duplicates()"
   ]
  },
  {
   "cell_type": "code",
   "execution_count": 8,
   "id": "6b3427c2",
   "metadata": {},
   "outputs": [
    {
     "data": {
      "text/plain": [
       "(6, 7)"
      ]
     },
     "execution_count": 8,
     "metadata": {},
     "output_type": "execute_result"
    }
   ],
   "source": [
    "# Number of unique values for quality in each dataset\n",
    "red['quality'].nunique(), white['quality'].nunique()"
   ]
  },
  {
   "cell_type": "code",
   "execution_count": 9,
   "id": "49af7e2f",
   "metadata": {},
   "outputs": [
    {
     "data": {
      "text/plain": [
       "0.9967089477557026"
      ]
     },
     "execution_count": 9,
     "metadata": {},
     "output_type": "execute_result"
    }
   ],
   "source": [
    "# Mean density of the red wine dataset\n",
    "red['density'].mean()"
   ]
  },
  {
   "cell_type": "markdown",
   "id": "994f9980",
   "metadata": {},
   "source": [
    "### Appending Data"
   ]
  },
  {
   "cell_type": "code",
   "execution_count": 10,
   "id": "2a05db4b",
   "metadata": {},
   "outputs": [],
   "source": [
    "# We create color array for red dataset\n",
    "color_red = np.repeat('red', red.shape[0])\n",
    "# Color array for white dataset\n",
    "color_white = np.repeat('white', white.shape[0])"
   ]
  },
  {
   "cell_type": "markdown",
   "id": "f9136227",
   "metadata": {},
   "source": [
    "**We have added arrays to the red and white dataframe. We do this by setting a new column called \"color\" to the appropriate array.**"
   ]
  },
  {
   "cell_type": "code",
   "execution_count": 11,
   "id": "7b9d636c",
   "metadata": {},
   "outputs": [],
   "source": [
    "# Add red array to the red dataset\n",
    "red['color'] = color_red\n",
    "# White dataset\n",
    "white['color'] = color_white"
   ]
  },
  {
   "cell_type": "code",
   "execution_count": 12,
   "id": "5b71b245",
   "metadata": {},
   "outputs": [
    {
     "data": {
      "text/html": [
       "<div>\n",
       "<style scoped>\n",
       "    .dataframe tbody tr th:only-of-type {\n",
       "        vertical-align: middle;\n",
       "    }\n",
       "\n",
       "    .dataframe tbody tr th {\n",
       "        vertical-align: top;\n",
       "    }\n",
       "\n",
       "    .dataframe thead th {\n",
       "        text-align: right;\n",
       "    }\n",
       "</style>\n",
       "<table border=\"1\" class=\"dataframe\">\n",
       "  <thead>\n",
       "    <tr style=\"text-align: right;\">\n",
       "      <th></th>\n",
       "      <th>fixed_acidity</th>\n",
       "      <th>volatile_acidity</th>\n",
       "      <th>citric_acid</th>\n",
       "      <th>residual_sugar</th>\n",
       "      <th>chlorides</th>\n",
       "      <th>free_sulfur_dioxide</th>\n",
       "      <th>total_sulfur_dioxide</th>\n",
       "      <th>density</th>\n",
       "      <th>pH</th>\n",
       "      <th>sulphates</th>\n",
       "      <th>alcohol</th>\n",
       "      <th>quality</th>\n",
       "      <th>color</th>\n",
       "    </tr>\n",
       "  </thead>\n",
       "  <tbody>\n",
       "    <tr>\n",
       "      <th>0</th>\n",
       "      <td>7.4</td>\n",
       "      <td>0.70</td>\n",
       "      <td>0.00</td>\n",
       "      <td>1.9</td>\n",
       "      <td>0.076</td>\n",
       "      <td>11.0</td>\n",
       "      <td>34.0</td>\n",
       "      <td>0.9978</td>\n",
       "      <td>3.51</td>\n",
       "      <td>0.56</td>\n",
       "      <td>9.4</td>\n",
       "      <td>5</td>\n",
       "      <td>red</td>\n",
       "    </tr>\n",
       "    <tr>\n",
       "      <th>1</th>\n",
       "      <td>7.8</td>\n",
       "      <td>0.88</td>\n",
       "      <td>0.00</td>\n",
       "      <td>2.6</td>\n",
       "      <td>0.098</td>\n",
       "      <td>25.0</td>\n",
       "      <td>67.0</td>\n",
       "      <td>0.9968</td>\n",
       "      <td>3.20</td>\n",
       "      <td>0.68</td>\n",
       "      <td>9.8</td>\n",
       "      <td>5</td>\n",
       "      <td>red</td>\n",
       "    </tr>\n",
       "    <tr>\n",
       "      <th>2</th>\n",
       "      <td>7.8</td>\n",
       "      <td>0.76</td>\n",
       "      <td>0.04</td>\n",
       "      <td>2.3</td>\n",
       "      <td>0.092</td>\n",
       "      <td>15.0</td>\n",
       "      <td>54.0</td>\n",
       "      <td>0.9970</td>\n",
       "      <td>3.26</td>\n",
       "      <td>0.65</td>\n",
       "      <td>9.8</td>\n",
       "      <td>5</td>\n",
       "      <td>red</td>\n",
       "    </tr>\n",
       "    <tr>\n",
       "      <th>3</th>\n",
       "      <td>11.2</td>\n",
       "      <td>0.28</td>\n",
       "      <td>0.56</td>\n",
       "      <td>1.9</td>\n",
       "      <td>0.075</td>\n",
       "      <td>17.0</td>\n",
       "      <td>60.0</td>\n",
       "      <td>0.9980</td>\n",
       "      <td>3.16</td>\n",
       "      <td>0.58</td>\n",
       "      <td>9.8</td>\n",
       "      <td>6</td>\n",
       "      <td>red</td>\n",
       "    </tr>\n",
       "    <tr>\n",
       "      <th>5</th>\n",
       "      <td>7.4</td>\n",
       "      <td>0.66</td>\n",
       "      <td>0.00</td>\n",
       "      <td>1.8</td>\n",
       "      <td>0.075</td>\n",
       "      <td>13.0</td>\n",
       "      <td>40.0</td>\n",
       "      <td>0.9978</td>\n",
       "      <td>3.51</td>\n",
       "      <td>0.56</td>\n",
       "      <td>9.4</td>\n",
       "      <td>5</td>\n",
       "      <td>red</td>\n",
       "    </tr>\n",
       "  </tbody>\n",
       "</table>\n",
       "</div>"
      ],
      "text/plain": [
       "   fixed_acidity  volatile_acidity  citric_acid  residual_sugar  chlorides  \\\n",
       "0            7.4              0.70         0.00             1.9      0.076   \n",
       "1            7.8              0.88         0.00             2.6      0.098   \n",
       "2            7.8              0.76         0.04             2.3      0.092   \n",
       "3           11.2              0.28         0.56             1.9      0.075   \n",
       "5            7.4              0.66         0.00             1.8      0.075   \n",
       "\n",
       "   free_sulfur_dioxide  total_sulfur_dioxide  density    pH  sulphates  \\\n",
       "0                 11.0                  34.0   0.9978  3.51       0.56   \n",
       "1                 25.0                  67.0   0.9968  3.20       0.68   \n",
       "2                 15.0                  54.0   0.9970  3.26       0.65   \n",
       "3                 17.0                  60.0   0.9980  3.16       0.58   \n",
       "5                 13.0                  40.0   0.9978  3.51       0.56   \n",
       "\n",
       "   alcohol  quality color  \n",
       "0      9.4        5   red  \n",
       "1      9.8        5   red  \n",
       "2      9.8        5   red  \n",
       "3      9.8        6   red  \n",
       "5      9.4        5   red  "
      ]
     },
     "execution_count": 12,
     "metadata": {},
     "output_type": "execute_result"
    }
   ],
   "source": [
    "# We are going to combine the dataframes with append\n",
    "wine_df = red.append(white)\n",
    "wine_df.columns = [c.replace(\" \", \"_\") for c in wine_df.columns]\n",
    "wine_df.head()"
   ]
  },
  {
   "cell_type": "markdown",
   "id": "f156ec56",
   "metadata": {},
   "source": [
    "### EDA"
   ]
  },
  {
   "cell_type": "code",
   "execution_count": 14,
   "id": "5de4bf7d",
   "metadata": {},
   "outputs": [
    {
     "data": {
      "image/png": "[encoded data removed]",
      "text/plain": [
       "<Figure size 432x288 with 1 Axes>"
      ]
     },
     "metadata": {
      "needs_background": "light"
     },
     "output_type": "display_data"
    }
   ],
   "source": [
    "# Histogram for varios features\n",
    "# fixed acidity\n",
    "wine_df['fixed_acidity'].hist();"
   ]
  },
  {
   "cell_type": "code",
   "execution_count": 15,
   "id": "2c80d39d",
   "metadata": {},
   "outputs": [
    {
     "data": {
      "image/png": "[encoded data removed]",
      "text/plain": [
       "<Figure size 432x288 with 1 Axes>"
      ]
     },
     "metadata": {
      "needs_background": "light"
     },
     "output_type": "display_data"
    }
   ],
   "source": [
    "# Total sulfur dioxide\n",
    "wine_df['total_sulfur_dioxide'].hist();"
   ]
  },
  {
   "cell_type": "code",
   "execution_count": 16,
   "id": "54068ff9",
   "metadata": {},
   "outputs": [
    {
     "data": {
      "image/png": "[encoded data removed]",
      "text/plain": [
       "<Figure size 432x288 with 1 Axes>"
      ]
     },
     "metadata": {
      "needs_background": "light"
     },
     "output_type": "display_data"
    }
   ],
   "source": [
    "# pH\n",
    "wine_df['pH'].hist();"
   ]
  },
  {
   "cell_type": "code",
   "execution_count": 17,
   "id": "ad992792",
   "metadata": {},
   "outputs": [
    {
     "data": {
      "image/png": "[encoded data removed]",
      "text/plain": [
       "<Figure size 432x288 with 1 Axes>"
      ]
     },
     "metadata": {
      "needs_background": "light"
     },
     "output_type": "display_data"
    }
   ],
   "source": [
    "# Alcohol\n",
    "wine_df['alcohol'].hist();"
   ]
  },
  {
   "cell_type": "markdown",
   "id": "7594ce40",
   "metadata": {},
   "source": [
    "**Observation:**\n",
    "- Based on histograms, **Fixed Acidity** and **Alcohol** variables appear skewed to the right.\n",
    "- This means that there are some outliers on the right side of the distribution (i.e. some outliers with large numerical values). The effect is that these outliers, literally \"extreme observations\", will \"drag\" the mean/average up (so that it will be less representative of the data as a whole)."
   ]
  },
  {
   "cell_type": "code",
   "execution_count": 18,
   "id": "60b62455",
   "metadata": {},
   "outputs": [
    {
     "data": {
      "image/png": "[encoded data removed]",
      "text/plain": [
       "<Figure size 432x288 with 1 Axes>"
      ]
     },
     "metadata": {
      "needs_background": "light"
     },
     "output_type": "display_data"
    }
   ],
   "source": [
    "# Scatterplots\n",
    "# Which one is most likely to have a positive impact on quality\n",
    "# Volatile acidity\n",
    "wine_df.plot(y='quality', x='volatile_acidity', kind='scatter');"
   ]
  },
  {
   "cell_type": "code",
   "execution_count": 19,
   "id": "c77127e3",
   "metadata": {},
   "outputs": [
    {
     "data": {
      "image/png": "[encoded data removed]",
      "text/plain": [
       "<Figure size 432x288 with 1 Axes>"
      ]
     },
     "metadata": {
      "needs_background": "light"
     },
     "output_type": "display_data"
    }
   ],
   "source": [
    "# Residula sugar\n",
    "wine_df.plot(y='quality', x='residual_sugar', kind=\"scatter\");"
   ]
  },
  {
   "cell_type": "code",
   "execution_count": 20,
   "id": "6158438f",
   "metadata": {},
   "outputs": [
    {
     "data": {
      "image/png": "[encoded data removed]",
      "text/plain": [
       "<Figure size 432x288 with 1 Axes>"
      ]
     },
     "metadata": {
      "needs_background": "light"
     },
     "output_type": "display_data"
    }
   ],
   "source": [
    "# pH\n",
    "wine_df.plot(y='quality', x=\"pH\", kind=\"scatter\");"
   ]
  },
  {
   "cell_type": "code",
   "execution_count": 21,
   "id": "1c58e439",
   "metadata": {},
   "outputs": [
    {
     "data": {
      "image/png": "[encoded data removed]",
      "text/plain": [
       "<Figure size 432x288 with 1 Axes>"
      ]
     },
     "metadata": {
      "needs_background": "light"
     },
     "output_type": "display_data"
    }
   ],
   "source": [
    "# Alcohol\n",
    "wine_df.plot(y='quality', x='alcohol', kind='scatter');"
   ]
  },
  {
   "cell_type": "markdown",
   "id": "c4f2595f",
   "metadata": {},
   "source": [
    "**Observation:**\n",
    "- Based on scatterplots of quality against different feature variables, **Alcohol** is most likely to have a positive impact on quality.\n",
    "- we are looking for a **positive correlation and high value of correlation coefficient**. Alcohol has a positve correlation and highest among all the positive correlation scatterplots. The higher the alcohol content, the higher the quality."
   ]
  },
  {
   "cell_type": "code",
   "execution_count": 22,
   "id": "a32221c2",
   "metadata": {},
   "outputs": [
    {
     "data": {
      "image/png": "[encoded data removed]",
      "text/plain": [
       "<Figure size 720x576 with 2 Axes>"
      ]
     },
     "metadata": {
      "needs_background": "light"
     },
     "output_type": "display_data"
    }
   ],
   "source": [
    "# Heatmap for feature variables\n",
    "corr = wine_df.corr()\n",
    "plt.figure(figsize=(10,8))\n",
    "sns.heatmap(corr, annot=True)\n",
    "plt.xticks(rotation=45)\n",
    "plt.title('Heatmap of correlation Coefficient for wine feature variables', size=12)\n",
    "plt.show()"
   ]
  },
  {
   "cell_type": "markdown",
   "id": "c64498dc",
   "metadata": {},
   "source": [
    "**Observation:**\n",
    "- Referring to the bottom row of Quality, the feature variable with the most positive impact on Quality is **Alcohol** at 0.47 coefficient. The other features such as **Volatile Acidity, Residual Sugar and pH** have negative or less than 0.1 correlation."
   ]
  },
  {
   "cell_type": "markdown",
   "id": "5fecb399",
   "metadata": {},
   "source": [
    "### Conclusions Using Groupby"
   ]
  },
  {
   "cell_type": "markdown",
   "id": "4386b29c",
   "metadata": {},
   "source": [
    "#### 1 Is a certain type of wine associated with higher quality?\n",
    "\n",
    "- For this question, we compare the average quality of red wine with the average quality of white wine with groupby. To do this, group by color and then find the mean quality of each group."
   ]
  },
  {
   "cell_type": "code",
   "execution_count": 23,
   "id": "65935a4c",
   "metadata": {},
   "outputs": [
    {
     "data": {
      "text/plain": [
       "color\n",
       "red      5.623252\n",
       "white    5.854835\n",
       "Name: quality, dtype: float64"
      ]
     },
     "execution_count": 23,
     "metadata": {},
     "output_type": "execute_result"
    }
   ],
   "source": [
    "# Find the mean quality of each wine type\n",
    "wine_df.groupby('color')['quality'].mean()"
   ]
  },
  {
   "cell_type": "markdown",
   "id": "2a0a4a1e",
   "metadata": {},
   "source": [
    "**Answer:**\n",
    "- White wine is typically associated with higher quality at 5.877."
   ]
  },
  {
   "cell_type": "markdown",
   "id": "3a2092a8",
   "metadata": {},
   "source": [
    "#### 2 What level of acidity receives the highest average rating?\n",
    "\n",
    "First, we create a new column called 'acidity_levels' with these categories:\n",
    "\n",
    "Acidity Levels:\n",
    "\n",
    "- High: Lowest 25% of pH values\n",
    "- Moderately High: 25% - 50% of pH values\n",
    "- Medium: 50% - 75% of pH values\n",
    "- Low: 75% - max pH value\n",
    "\n",
    "Here, the data is being split at the 25th, 50th, and 75th percentile."
   ]
  },
  {
   "cell_type": "code",
   "execution_count": 24,
   "id": "6b67d0ed",
   "metadata": {},
   "outputs": [
    {
     "data": {
      "text/plain": [
       "count    5320.000000\n",
       "mean        3.224664\n",
       "std         0.160379\n",
       "min         2.720000\n",
       "25%         3.110000\n",
       "50%         3.210000\n",
       "75%         3.330000\n",
       "max         4.010000\n",
       "Name: pH, dtype: float64"
      ]
     },
     "execution_count": 24,
     "metadata": {},
     "output_type": "execute_result"
    }
   ],
   "source": [
    "# View the pH values\n",
    "wine_df['pH'].describe()"
   ]
  },
  {
   "cell_type": "code",
   "execution_count": 25,
   "id": "97635abc",
   "metadata": {},
   "outputs": [
    {
     "data": {
      "text/html": [
       "<div>\n",
       "<style scoped>\n",
       "    .dataframe tbody tr th:only-of-type {\n",
       "        vertical-align: middle;\n",
       "    }\n",
       "\n",
       "    .dataframe tbody tr th {\n",
       "        vertical-align: top;\n",
       "    }\n",
       "\n",
       "    .dataframe thead th {\n",
       "        text-align: right;\n",
       "    }\n",
       "</style>\n",
       "<table border=\"1\" class=\"dataframe\">\n",
       "  <thead>\n",
       "    <tr style=\"text-align: right;\">\n",
       "      <th></th>\n",
       "      <th>fixed_acidity</th>\n",
       "      <th>volatile_acidity</th>\n",
       "      <th>citric_acid</th>\n",
       "      <th>residual_sugar</th>\n",
       "      <th>chlorides</th>\n",
       "      <th>free_sulfur_dioxide</th>\n",
       "      <th>total_sulfur_dioxide</th>\n",
       "      <th>density</th>\n",
       "      <th>pH</th>\n",
       "      <th>sulphates</th>\n",
       "      <th>alcohol</th>\n",
       "      <th>quality</th>\n",
       "      <th>color</th>\n",
       "      <th>acidity_levels</th>\n",
       "    </tr>\n",
       "  </thead>\n",
       "  <tbody>\n",
       "    <tr>\n",
       "      <th>0</th>\n",
       "      <td>7.4</td>\n",
       "      <td>0.70</td>\n",
       "      <td>0.00</td>\n",
       "      <td>1.9</td>\n",
       "      <td>0.076</td>\n",
       "      <td>11.0</td>\n",
       "      <td>34.0</td>\n",
       "      <td>0.9978</td>\n",
       "      <td>3.51</td>\n",
       "      <td>0.56</td>\n",
       "      <td>9.4</td>\n",
       "      <td>5</td>\n",
       "      <td>red</td>\n",
       "      <td>low</td>\n",
       "    </tr>\n",
       "    <tr>\n",
       "      <th>1</th>\n",
       "      <td>7.8</td>\n",
       "      <td>0.88</td>\n",
       "      <td>0.00</td>\n",
       "      <td>2.6</td>\n",
       "      <td>0.098</td>\n",
       "      <td>25.0</td>\n",
       "      <td>67.0</td>\n",
       "      <td>0.9968</td>\n",
       "      <td>3.20</td>\n",
       "      <td>0.68</td>\n",
       "      <td>9.8</td>\n",
       "      <td>5</td>\n",
       "      <td>red</td>\n",
       "      <td>moderqtely high</td>\n",
       "    </tr>\n",
       "    <tr>\n",
       "      <th>2</th>\n",
       "      <td>7.8</td>\n",
       "      <td>0.76</td>\n",
       "      <td>0.04</td>\n",
       "      <td>2.3</td>\n",
       "      <td>0.092</td>\n",
       "      <td>15.0</td>\n",
       "      <td>54.0</td>\n",
       "      <td>0.9970</td>\n",
       "      <td>3.26</td>\n",
       "      <td>0.65</td>\n",
       "      <td>9.8</td>\n",
       "      <td>5</td>\n",
       "      <td>red</td>\n",
       "      <td>medium</td>\n",
       "    </tr>\n",
       "    <tr>\n",
       "      <th>3</th>\n",
       "      <td>11.2</td>\n",
       "      <td>0.28</td>\n",
       "      <td>0.56</td>\n",
       "      <td>1.9</td>\n",
       "      <td>0.075</td>\n",
       "      <td>17.0</td>\n",
       "      <td>60.0</td>\n",
       "      <td>0.9980</td>\n",
       "      <td>3.16</td>\n",
       "      <td>0.58</td>\n",
       "      <td>9.8</td>\n",
       "      <td>6</td>\n",
       "      <td>red</td>\n",
       "      <td>moderqtely high</td>\n",
       "    </tr>\n",
       "    <tr>\n",
       "      <th>5</th>\n",
       "      <td>7.4</td>\n",
       "      <td>0.66</td>\n",
       "      <td>0.00</td>\n",
       "      <td>1.8</td>\n",
       "      <td>0.075</td>\n",
       "      <td>13.0</td>\n",
       "      <td>40.0</td>\n",
       "      <td>0.9978</td>\n",
       "      <td>3.51</td>\n",
       "      <td>0.56</td>\n",
       "      <td>9.4</td>\n",
       "      <td>5</td>\n",
       "      <td>red</td>\n",
       "      <td>low</td>\n",
       "    </tr>\n",
       "  </tbody>\n",
       "</table>\n",
       "</div>"
      ],
      "text/plain": [
       "   fixed_acidity  volatile_acidity  citric_acid  residual_sugar  chlorides  \\\n",
       "0            7.4              0.70         0.00             1.9      0.076   \n",
       "1            7.8              0.88         0.00             2.6      0.098   \n",
       "2            7.8              0.76         0.04             2.3      0.092   \n",
       "3           11.2              0.28         0.56             1.9      0.075   \n",
       "5            7.4              0.66         0.00             1.8      0.075   \n",
       "\n",
       "   free_sulfur_dioxide  total_sulfur_dioxide  density    pH  sulphates  \\\n",
       "0                 11.0                  34.0   0.9978  3.51       0.56   \n",
       "1                 25.0                  67.0   0.9968  3.20       0.68   \n",
       "2                 15.0                  54.0   0.9970  3.26       0.65   \n",
       "3                 17.0                  60.0   0.9980  3.16       0.58   \n",
       "5                 13.0                  40.0   0.9978  3.51       0.56   \n",
       "\n",
       "   alcohol  quality color   acidity_levels  \n",
       "0      9.4        5   red              low  \n",
       "1      9.8        5   red  moderqtely high  \n",
       "2      9.8        5   red           medium  \n",
       "3      9.8        6   red  moderqtely high  \n",
       "5      9.4        5   red              low  "
      ]
     },
     "execution_count": 25,
     "metadata": {},
     "output_type": "execute_result"
    }
   ],
   "source": [
    "# Bin edges that will be used to 'cut' the data into groups\n",
    "bin_edges = [2.72, 3.11, 3.21, 3.33, 4.01]\n",
    "# Labels for the four acidity level groups\n",
    "bin_names = ['high', 'moderqtely high', 'medium', 'low']\n",
    "# Creates acidity levels column\n",
    "wine_df['acidity_levels'] = pd.cut(wine_df['pH'], bins=bin_edges, labels=bin_names)\n",
    "wine_df.head()"
   ]
  },
  {
   "cell_type": "code",
   "execution_count": 26,
   "id": "abedd8fe",
   "metadata": {},
   "outputs": [
    {
     "data": {
      "text/plain": [
       "acidity_levels\n",
       "high               5.728024\n",
       "moderqtely high    5.766917\n",
       "medium             5.852624\n",
       "low                5.834254\n",
       "Name: quality, dtype: float64"
      ]
     },
     "execution_count": 26,
     "metadata": {},
     "output_type": "execute_result"
    }
   ],
   "source": [
    "# Find the mean quaity of each acidity level with groupby\n",
    "wine_df.groupby('acidity_levels')['quality'].mean()"
   ]
  },
  {
   "cell_type": "markdown",
   "id": "7624e79d",
   "metadata": {},
   "source": [
    "**Answer:**\n",
    "- Wine is medium acidity level/pH recivies the highest average rating, followed closely by low acidity level. We can conclude that medium/lower the acidity level, the higher the quality of wine."
   ]
  },
  {
   "cell_type": "markdown",
   "id": "936cdb24",
   "metadata": {},
   "source": [
    "### 3 Do wines with higher alcoholic content recieve better ratings?\n",
    "\n",
    "- Low alcholo (samples with an alcohol content less than the median)\n",
    "- High alcohol (samples with an alcohol greater than or equal to the median)"
   ]
  },
  {
   "cell_type": "code",
   "execution_count": 27,
   "id": "7fd8cb59",
   "metadata": {},
   "outputs": [
    {
     "data": {
      "text/plain": [
       "10.4"
      ]
     },
     "execution_count": 27,
     "metadata": {},
     "output_type": "execute_result"
    }
   ],
   "source": [
    "# Get the median amount of alcohol content\n",
    "wine_df['alcohol'].median()"
   ]
  },
  {
   "cell_type": "code",
   "execution_count": 29,
   "id": "3f5bcdb3",
   "metadata": {},
   "outputs": [
    {
     "data": {
      "text/plain": [
       "True"
      ]
     },
     "execution_count": 29,
     "metadata": {},
     "output_type": "execute_result"
    }
   ],
   "source": [
    "# Select samples with alcohol content less than the median\n",
    "low_alcohol = wine_df.query('alcohol < 10.4')\n",
    "\n",
    "# Select samples with alcohol content greater than or equal to the median\n",
    "high_alcohol = wine_df.query('alcohol >= 10.4')\n",
    "\n",
    "# Ensure these queries included each sample exactly once\n",
    "num_samples = wine_df.shape[0]\n",
    "num_samples == low_alcohol['quality'].count() + high_alcohol['quality'].count()"
   ]
  },
  {
   "cell_type": "code",
   "execution_count": 30,
   "id": "ca349d07",
   "metadata": {},
   "outputs": [
    {
     "data": {
      "text/plain": [
       "5.439202148062908"
      ]
     },
     "execution_count": 30,
     "metadata": {},
     "output_type": "execute_result"
    }
   ],
   "source": [
    "# Get mean quality rating for the low alcohol group\n",
    "low_alcohol['quality'].mean()"
   ]
  },
  {
   "cell_type": "code",
   "execution_count": 31,
   "id": "d6556ebd",
   "metadata": {},
   "outputs": [
    {
     "data": {
      "text/plain": [
       "6.138223368964246"
      ]
     },
     "execution_count": 31,
     "metadata": {},
     "output_type": "execute_result"
    }
   ],
   "source": [
    "# Get mean quality rating to the high alcohol group\n",
    "high_alcohol['quality'].mean()"
   ]
  },
  {
   "cell_type": "markdown",
   "id": "e47c517b",
   "metadata": {},
   "source": [
    "**Answer:**\n",
    "- Wines with higher alcohol content receives better ratings."
   ]
  },
  {
   "cell_type": "markdown",
   "id": "ed29a00b",
   "metadata": {},
   "source": [
    "### Do sweeter wines receive better ratings?"
   ]
  },
  {
   "cell_type": "code",
   "execution_count": 32,
   "id": "adbef657",
   "metadata": {},
   "outputs": [
    {
     "data": {
      "text/plain": [
       "2.7"
      ]
     },
     "execution_count": 32,
     "metadata": {},
     "output_type": "execute_result"
    }
   ],
   "source": [
    "# Get the median amount of residual sugar\n",
    "wine_df['residual_sugar'].median()"
   ]
  },
  {
   "cell_type": "code",
   "execution_count": 33,
   "id": "676a3649",
   "metadata": {},
   "outputs": [
    {
     "data": {
      "text/plain": [
       "True"
      ]
     },
     "execution_count": 33,
     "metadata": {},
     "output_type": "execute_result"
    }
   ],
   "source": [
    "# Select samples with residual sugar less than the median\n",
    "low_sugar = wine_df.query('residual_sugar < 2.7')\n",
    "\n",
    "# Select samples with residual sugar greater than or equal to the median\n",
    "high_sugar = wine_df.query('residual_sugar >= 2.7')\n",
    "\n",
    "# Ensure these queries included each sample exaclty once\n",
    "num_samples == low_sugar['quality'].count() + high_sugar['quality'].count()"
   ]
  },
  {
   "cell_type": "code",
   "execution_count": 34,
   "id": "dbfc1e85",
   "metadata": {},
   "outputs": [
    {
     "data": {
      "text/plain": [
       "5.78316032295271"
      ]
     },
     "execution_count": 34,
     "metadata": {},
     "output_type": "execute_result"
    }
   ],
   "source": [
    "# Get mean quality rating for the low sugar group\n",
    "low_sugar['quality'].mean()"
   ]
  },
  {
   "cell_type": "code",
   "execution_count": 35,
   "id": "309f02d9",
   "metadata": {},
   "outputs": [
    {
     "data": {
      "text/plain": [
       "5.807649871276205"
      ]
     },
     "execution_count": 35,
     "metadata": {},
     "output_type": "execute_result"
    }
   ],
   "source": [
    "# Get mean quality rating for the high sugar group\n",
    "high_sugar['quality'].mean()"
   ]
  },
  {
   "cell_type": "markdown",
   "id": "94fa66c7",
   "metadata": {},
   "source": [
    "**Answer:**\n",
    "- Sweeter wines with higher sugar content receives higher rating although there is a close match with lower sugar content."
   ]
  },
  {
   "cell_type": "markdown",
   "id": "2514f3d2",
   "metadata": {},
   "source": [
    "### Visualization"
   ]
  },
  {
   "cell_type": "markdown",
   "id": "c06d1a2a",
   "metadata": {},
   "source": [
    "### 3.1 Do wines with higher alcoholic content recieve better ratings?"
   ]
  },
  {
   "cell_type": "code",
   "execution_count": 36,
   "id": "c41b723e",
   "metadata": {},
   "outputs": [
    {
     "data": {
      "image/png": "[encoded data removed]",
      "text/plain": [
       "<Figure size 432x288 with 1 Axes>"
      ]
     },
     "metadata": {
      "needs_background": "light"
     },
     "output_type": "display_data"
    }
   ],
   "source": [
    "# Get overall median for alcohol\n",
    "median = wine_df['alcohol'].median()\n",
    "# Get subsets for data with < and >= alcohol median\n",
    "low = wine_df.query('alcohol < {}'.format(median))\n",
    "high = wine_df.query('alcohol >= {}'.format(median))\n",
    "# Get mean for quality with low and high alcohol\n",
    "mean_quality_low_al = low['quality'].mean()\n",
    "mean_quality_high_al = high['quality'].mean()\n",
    "# Create a bar chart with proper labels\n",
    "locations = [1, 2]\n",
    "heights = [mean_quality_low_al, mean_quality_high_al]\n",
    "labels = ['Low', 'High']\n",
    "\n",
    "plt.bar(locations, heights, tick_label=labels)\n",
    "plt.title('Average Quality Ratings by alcohol Content')\n",
    "plt.xlabel('Alcohol Content')\n",
    "plt.ylabel('Average Quality Rating')\n",
    "plt.show()"
   ]
  },
  {
   "cell_type": "markdown",
   "id": "532c0cad",
   "metadata": {},
   "source": [
    "**Answer:**\n",
    "- From the bar chart above, wines with higher alcohol content receives a higher quality rating."
   ]
  },
  {
   "cell_type": "markdown",
   "id": "c7ee5d7a",
   "metadata": {},
   "source": [
    "### Do sweeter wines receive higher ratings?"
   ]
  },
  {
   "cell_type": "code",
   "execution_count": 37,
   "id": "df5fc716",
   "metadata": {},
   "outputs": [
    {
     "data": {
      "image/png": "[encoded data removed]",
      "text/plain": [
       "<Figure size 432x288 with 1 Axes>"
      ]
     },
     "metadata": {
      "needs_background": "light"
     },
     "output_type": "display_data"
    }
   ],
   "source": [
    "# Get the median for residual sugar\n",
    "median = wine_df['residual_sugar'].median()\n",
    "# Get the subsets for < and >= median\n",
    "low_sugar = wine_df.query('residual_sugar < {}'.format(median))\n",
    "high_sugar = wine_df.query('residual_sugar >= {}'.format(median))\n",
    "# Get the mean for quality\n",
    "mean_quality_low_sugar = low_sugar['quality'].mean()\n",
    "mean_quality_high_sugar = high_sugar['quality'].mean()\n",
    "# Create a bar chart\n",
    "locations = [1, 2]\n",
    "heights = [mean_quality_low_sugar, mean_quality_high_sugar]\n",
    "labels = ['Low', 'High']\n",
    "plt.bar(locations, heights, tick_label=labels)\n",
    "plt.title('Average Quality Ratings by Residual sugar')\n",
    "plt.xlabel('Residual Sugar')\n",
    "plt.ylabel('Average Quality Rating')\n",
    "plt.show()"
   ]
  },
  {
   "cell_type": "markdown",
   "id": "67259546",
   "metadata": {},
   "source": [
    "**Answer:**\n",
    "- From the above bar chart, it's difficult to properly determine the impact of residual sugar on the quality rating."
   ]
  },
  {
   "cell_type": "markdown",
   "id": "4c8a3ffc",
   "metadata": {},
   "source": [
    "### What level of acidity receives the highest average rating?"
   ]
  },
  {
   "cell_type": "code",
   "execution_count": 38,
   "id": "31495cb6",
   "metadata": {},
   "outputs": [
    {
     "data": {
      "image/png": "[encoded data removed]",
      "text/plain": [
       "<Figure size 432x288 with 1 Axes>"
      ]
     },
     "metadata": {
      "needs_background": "light"
     },
     "output_type": "display_data"
    }
   ],
   "source": [
    "# Mean quality for each acidity level\n",
    "acidity_level_mean = wine_df.groupby('acidity_levels')['quality'].mean()\n",
    "acidity_level_mean\n",
    "# Create a bar chart with proper labels\n",
    "locations = [2, 3, 4, 1]\n",
    "heights = acidity_level_mean\n",
    "labels = ['low', 'medium', 'moderately high', 'high']\n",
    "\n",
    "plt.bar(locations, heights, tick_label=labels)\n",
    "plt.title('Average Quality Ratings by Acidity Level')\n",
    "plt.xlabel('Acidity Level')\n",
    "plt.ylabel('Average Quality Rating')\n",
    "plt.show()"
   ]
  },
  {
   "cell_type": "markdown",
   "id": "ca280dc5",
   "metadata": {},
   "source": [
    "**Answer:**\n",
    "- Similarly, the above bar is also not able to provide any meaningful answer as to which level of acidity provides a lower or higher quality rating."
   ]
  },
  {
   "cell_type": "code",
   "execution_count": 41,
   "id": "e7f52ddc",
   "metadata": {},
   "outputs": [
    {
     "data": {
      "image/png": "[encoded data removed]",
      "text/plain": [
       "<Figure size 432x288 with 1 Axes>"
      ]
     },
     "metadata": {
      "needs_background": "light"
     },
     "output_type": "display_data"
    }
   ],
   "source": [
    "# Create a line with proper labels\n",
    "locations = [1, 2]\n",
    "heights = [mean_quality_low_sugar, mean_quality_high_sugar]\n",
    "\n",
    "plt.plot(locations, heights)\n",
    "plt.title('Average Quality Ratings by Residual Sugar')\n",
    "plt.xlabel('Residual Sugar')\n",
    "plt.ylabel('average Quality Rating')\n",
    "plt.show()"
   ]
  },
  {
   "cell_type": "markdown",
   "id": "ef1a2341",
   "metadata": {},
   "source": [
    "**Answer:**\n",
    "- With the line chart above, we can see the relationship between residual sugar and quality rating better. ***The higher the residual sugar, the higher the quality rating.***"
   ]
  },
  {
   "cell_type": "code",
   "execution_count": 44,
   "id": "59a64d2f",
   "metadata": {},
   "outputs": [
    {
     "data": {
      "image/png": "[encoded data removed]",
      "text/plain": [
       "<Figure size 432x288 with 1 Axes>"
      ]
     },
     "metadata": {
      "needs_background": "light"
     },
     "output_type": "display_data"
    }
   ],
   "source": [
    "locations = [1, 2, 3, 4]\n",
    "heights = [5.852624, 5.834254, 5.766917, 5.728024]\n",
    "\n",
    "plt.plot(locations, heights)\n",
    "plt.title('Average Quality Ratings by Acidity Level')\n",
    "plt.xlabel('Acidity Level')\n",
    "plt.ylabel('Average Quality Rating')\n",
    "plt.show()"
   ]
  },
  {
   "cell_type": "markdown",
   "id": "009f2278",
   "metadata": {},
   "source": [
    "**Answer:**\n",
    "- We can see the higher the acidity level or pH, the lower the quality rating of the wine."
   ]
  },
  {
   "cell_type": "markdown",
   "id": "13718d1d",
   "metadata": {},
   "source": [
    "## Conclusion\n",
    "\n",
    "**1. Is a certain type of wine (red or white) associated with higher quality?**\n",
    "> White wine is typically associated with higher quality.\n",
    "\n",
    "**2. Do wines with higher alcoholic content recieve better ratings?**\n",
    "> Wines with higer alcohol content generally receives better quality ratings.\n",
    "\n",
    "**3. Do sweeter wines (more residual sugar) receive better ratings?**\n",
    "> Sweeter wines with higher sugar content receives higher rating although there is close match with lower sugar content.\n",
    "\n",
    "**4. What level of acidity is associated with the highest quality?**\n",
    "> Wine with medium acidity level/pH receives the highest average rating, followed closely by lower acidity level. We can conclude the medium/lower the acidity level, the higher the quality of wine."
   ]
  },
  {
   "cell_type": "code",
   "execution_count": null,
   "id": "26352c12",
   "metadata": {},
   "outputs": [],
   "source": []
  }
 ],
 "metadata": {
  "kernelspec": {
   "display_name": "Python 3",
   "language": "python",
   "name": "python3"
  },
  "language_info": {
   "codemirror_mode": {
    "name": "ipython",
    "version": 3
   },
   "file_extension": ".py",
   "mimetype": "text/x-python",
   "name": "python",
   "nbconvert_exporter": "python",
   "pygments_lexer": "ipython3",
   "version": "3.8.8"
  }
 },
 "nbformat": 4,
 "nbformat_minor": 5
}
